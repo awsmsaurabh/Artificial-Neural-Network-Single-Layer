{
 "cells": [
  {
   "cell_type": "code",
   "execution_count": 1,
   "metadata": {},
   "outputs": [],
   "source": [
    "#importing required liberary\n",
    "import numpy as np\n",
    "import pandas as pd\n",
    "from matplotlib import pyplot as plt"
   ]
  },
  {
   "cell_type": "code",
   "execution_count": 2,
   "metadata": {},
   "outputs": [],
   "source": [
    "#import datasets\n",
    "data=pd.read_csv(\"iris.csv\");"
   ]
  },
  {
   "cell_type": "code",
   "execution_count": 3,
   "metadata": {},
   "outputs": [
    {
     "data": {
      "text/html": [
       "<div>\n",
       "<style scoped>\n",
       "    .dataframe tbody tr th:only-of-type {\n",
       "        vertical-align: middle;\n",
       "    }\n",
       "\n",
       "    .dataframe tbody tr th {\n",
       "        vertical-align: top;\n",
       "    }\n",
       "\n",
       "    .dataframe thead th {\n",
       "        text-align: right;\n",
       "    }\n",
       "</style>\n",
       "<table border=\"1\" class=\"dataframe\">\n",
       "  <thead>\n",
       "    <tr style=\"text-align: right;\">\n",
       "      <th></th>\n",
       "      <th>sepal_length</th>\n",
       "      <th>sepal_width</th>\n",
       "      <th>petal_length</th>\n",
       "      <th>petal_width</th>\n",
       "      <th>class</th>\n",
       "    </tr>\n",
       "  </thead>\n",
       "  <tbody>\n",
       "    <tr>\n",
       "      <th>0</th>\n",
       "      <td>5.1</td>\n",
       "      <td>3.5</td>\n",
       "      <td>1.4</td>\n",
       "      <td>0.2</td>\n",
       "      <td>Iris-setosa</td>\n",
       "    </tr>\n",
       "    <tr>\n",
       "      <th>1</th>\n",
       "      <td>4.9</td>\n",
       "      <td>3.0</td>\n",
       "      <td>1.4</td>\n",
       "      <td>0.2</td>\n",
       "      <td>Iris-setosa</td>\n",
       "    </tr>\n",
       "    <tr>\n",
       "      <th>2</th>\n",
       "      <td>4.7</td>\n",
       "      <td>3.2</td>\n",
       "      <td>1.3</td>\n",
       "      <td>0.2</td>\n",
       "      <td>Iris-setosa</td>\n",
       "    </tr>\n",
       "    <tr>\n",
       "      <th>3</th>\n",
       "      <td>4.6</td>\n",
       "      <td>3.1</td>\n",
       "      <td>1.5</td>\n",
       "      <td>0.2</td>\n",
       "      <td>Iris-setosa</td>\n",
       "    </tr>\n",
       "    <tr>\n",
       "      <th>4</th>\n",
       "      <td>5.0</td>\n",
       "      <td>3.6</td>\n",
       "      <td>1.4</td>\n",
       "      <td>0.2</td>\n",
       "      <td>Iris-setosa</td>\n",
       "    </tr>\n",
       "  </tbody>\n",
       "</table>\n",
       "</div>"
      ],
      "text/plain": [
       "   sepal_length  sepal_width  petal_length  petal_width        class\n",
       "0           5.1          3.5           1.4          0.2  Iris-setosa\n",
       "1           4.9          3.0           1.4          0.2  Iris-setosa\n",
       "2           4.7          3.2           1.3          0.2  Iris-setosa\n",
       "3           4.6          3.1           1.5          0.2  Iris-setosa\n",
       "4           5.0          3.6           1.4          0.2  Iris-setosa"
      ]
     },
     "execution_count": 3,
     "metadata": {},
     "output_type": "execute_result"
    }
   ],
   "source": [
    "data.head()"
   ]
  },
  {
   "cell_type": "code",
   "execution_count": 4,
   "metadata": {},
   "outputs": [],
   "source": [
    "#Extracting data in numpy array and making x_data[:,0]=1\n",
    "x_data=np.ones((data.shape[0],5))\n",
    "x_data[:,1:]=np.array(data.loc[:,['sepal_length','sepal_width','petal_length','petal_width']])"
   ]
  },
  {
   "cell_type": "code",
   "execution_count": 5,
   "metadata": {},
   "outputs": [],
   "source": [
    "#Making vector of class\n",
    "y_data=np.zeros((data.shape[0],3))\n",
    "for i in range(data.shape[0]):\n",
    "    if data.loc[i,'class']=='Iris-setosa':\n",
    "        y_data[i,0]=1\n",
    "    elif data.loc[i,'class']=='Iris-versicolor':\n",
    "        y_data[i,1]=1\n",
    "    elif data.loc[i,'class']=='Iris-virginica':\n",
    "        y_data[i,2]=1"
   ]
  },
  {
   "cell_type": "code",
   "execution_count": 6,
   "metadata": {},
   "outputs": [],
   "source": [
    "x=np.zeros((105,5))\n",
    "y=np.zeros((105,3))\n",
    "\n",
    "x_test=np.zeros((45,5))\n",
    "y_test=np.zeros((45,3))\n",
    "\n",
    "#Extracting Iris-setosa\n",
    "x[0:35,:]=x_data[0:35,:]\n",
    "y[0:35,:]=y_data[0:35,:]\n",
    "\n",
    "x_test[0:15]=x_data[35:50,:]\n",
    "y_test[0:15]=y_data[35:50,:]\n",
    "\n",
    "#Extracting Iris-versicolor\n",
    "x[35:70,:]=x_data[50:85,:]\n",
    "y[35:70,:]=y_data[50:85,:]\n",
    "\n",
    "x_test[15:30,:]=x_data[85:100,:]\n",
    "y_test[15:30,:]=y_data[85:100,:]\n",
    "\n",
    "#Extracting Iris-virginica\n",
    "x[70:105,:]=x_data[100:135,:]\n",
    "y[70:105,:]=y_data[100:135,:]\n",
    "\n",
    "x_test[30:45,:]=x_data[135:150,:]\n",
    "y_test[30:45,:]=y_data[135:150,:]"
   ]
  },
  {
   "cell_type": "code",
   "execution_count": 7,
   "metadata": {},
   "outputs": [],
   "source": [
    "#Implementing MLP\n",
    "w=np.array([[0.0,0.0,0.0,0.0,0.0],\n",
    "            [0.0,0.0,0.0,0.0,0.0],\n",
    "            [0.0,0.0,0.0,0.0,0.0]])\n",
    "m=0.0\n",
    "m=len(x[:,0])\n",
    "alpha=0.001#learning rate"
   ]
  },
  {
   "cell_type": "code",
   "execution_count": 8,
   "metadata": {},
   "outputs": [],
   "source": [
    "def sigmoid(x):\n",
    "    return 1/(1+np.exp(-x))"
   ]
  },
  {
   "cell_type": "code",
   "execution_count": 9,
   "metadata": {},
   "outputs": [],
   "source": [
    "def sigmoid_diff(x):\n",
    "    return np.exp(-x)/((1+np.exp(-x))**2)"
   ]
  },
  {
   "cell_type": "code",
   "execution_count": 10,
   "metadata": {},
   "outputs": [],
   "source": [
    "#for j in range(1000):\n",
    "#    for k in range(m):\n",
    "#        u=w.dot(x[k,:])\n",
    "#        v=sigmoid(u)\n",
    "#        v_def=sigmoid_diff(u)\n",
    "#        for i in range(len(x[0,:])):\n",
    "#            w[:,i]=w[:,i]+(alpha*(((y[k,:]-v)*v_def)*x[k,i]))"
   ]
  },
  {
   "cell_type": "code",
   "execution_count": 11,
   "metadata": {},
   "outputs": [],
   "source": [
    "#for j in range(1000):\n",
    "#    temp=np.copy(w)\n",
    "#    for k in range(m):\n",
    "#        u=w.dot(x[k,:])\n",
    "#        v=sigmoid(u)\n",
    "#        v_def=sigmoid_diff(u)\n",
    "#        for i in range(len(x[0,:])):\n",
    "#            temp[:,i]=temp[:,i]+(alpha*(((y[k,:]-v)*v_def)*x[k,i]))\n",
    "#    w=np.copy(temp)"
   ]
  },
  {
   "cell_type": "code",
   "execution_count": 12,
   "metadata": {},
   "outputs": [],
   "source": [
    "for j in range(150000):\n",
    "    temp=np.zeros((3,5))\n",
    "    for k in range(m):\n",
    "        u=w.dot(x[k,:])\n",
    "        v=sigmoid(u)\n",
    "        v_def=sigmoid_diff(u)\n",
    "        for i in range(len(x[0,:])):\n",
    "            temp[:,i]+=(((y[k,:]-v)*v_def)*x[k,i])\n",
    "    w=w+((alpha/m)*temp)"
   ]
  },
  {
   "cell_type": "code",
   "execution_count": 13,
   "metadata": {},
   "outputs": [],
   "source": [
    "def equal(x,y):\n",
    "    if x[0]!=y[0]:\n",
    "        return False\n",
    "    elif x[1]!=y[1]:\n",
    "        return False\n",
    "    elif x[2]!=y[2]:\n",
    "        return False\n",
    "    return True"
   ]
  },
  {
   "cell_type": "code",
   "execution_count": 14,
   "metadata": {},
   "outputs": [
    {
     "name": "stdout",
     "output_type": "stream",
     "text": [
      "correctly classified 0.98\n"
     ]
    }
   ],
   "source": [
    "#Testing time\n",
    "count=0\n",
    "y_pred=np.zeros((45,3))\n",
    "for i in range(len(x_test[:,0])):\n",
    "    u=w.dot(x_test[i,:])\n",
    "    v=sigmoid(u)\n",
    "    if v[0]>v[1] and v[0]>v[2]:\n",
    "        y_pred[i,0]=1\n",
    "    elif v[1]>v[0] and v[1]>v[2]:\n",
    "        y_pred[i,1]=1\n",
    "    else:\n",
    "        y_pred[i,2]=1\n",
    "    if equal(y_pred[i],y_test[i]):\n",
    "        count+=1\n",
    "print(\"correctly classified\",round(count/len(y_test),2))"
   ]
  },
  {
   "cell_type": "code",
   "execution_count": null,
   "metadata": {},
   "outputs": [],
   "source": []
  }
 ],
 "metadata": {
  "kernelspec": {
   "display_name": "Python 3",
   "language": "python",
   "name": "python3"
  },
  "language_info": {
   "codemirror_mode": {
    "name": "ipython",
    "version": 3
   },
   "file_extension": ".py",
   "mimetype": "text/x-python",
   "name": "python",
   "nbconvert_exporter": "python",
   "pygments_lexer": "ipython3",
   "version": "3.6.5"
  }
 },
 "nbformat": 4,
 "nbformat_minor": 2
}
